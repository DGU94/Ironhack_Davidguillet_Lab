{
 "cells": [
  {
   "cell_type": "code",
   "execution_count": 3,
   "id": "89cf6094",
   "metadata": {},
   "outputs": [
    {
     "ename": "SyntaxError",
     "evalue": "invalid syntax (2204450448.py, line 2)",
     "output_type": "error",
     "traceback": [
      "\u001b[0;36m  File \u001b[0;32m\"/var/folders/d0/kyjzvmwn3fdgc5m0t8snt0nm0000gn/T/ipykernel_69767/2204450448.py\"\u001b[0;36m, line \u001b[0;32m2\u001b[0m\n\u001b[0;31m    * [Chapter 1](#chapter1)\u001b[0m\n\u001b[0m               ^\u001b[0m\n\u001b[0;31mSyntaxError\u001b[0m\u001b[0;31m:\u001b[0m invalid syntax\n"
     ]
    }
   ],
   "source": [
    "## Table of Contents\n",
    "* [Chapter 1](#chapter1)\n",
    "    * [Section 1.1](#section_1_1)\n",
    "        * [Sub Section 1.1.1](#sub_section_1_1_1)\n",
    "* [Chapter 2](#chapter2)\n",
    "    * [Section 2.1](#section_2_1)\n",
    "        * [Sub Section 2.1.1](#sub_section_2_1_1)\n",
    "        * [Sub Section 2.1.2](#sub_section_2_1_2)\n",
    "    * [Section 2.2](#section_2_2)\n",
    "        * [Sub Section 2.2.1](#sub_section_2_2_1)\n",
    "        * [Sub Section 2.2.2](#sub_section_2_2_2)\n",
    "* [Chapter 3](#chapter3)\n",
    "    * [Section 3.1](#section_3_1)\n",
    "        * [Sub Section 3.1.1](#sub_section_3_1_1)\n",
    "        * [Sub Section 3.1.2](#sub_section_3_1_2)\n",
    "    * [Section 3.2](#section_3_2)\n",
    "        * [Sub Section 3.2.1](#sub_section_3_2_1)\n",
    "        * [Sub Section 3.2.2](#sub_section_3_2_2)"
   ]
  },
  {
   "cell_type": "code",
   "execution_count": 2,
   "id": "261d12a5",
   "metadata": {},
   "outputs": [
    {
     "ename": "SyntaxError",
     "evalue": "invalid syntax (3010227046.py, line 2)",
     "output_type": "error",
     "traceback": [
      "\u001b[0;36m  File \u001b[0;32m\"/var/folders/d0/kyjzvmwn3fdgc5m0t8snt0nm0000gn/T/ipykernel_69767/3010227046.py\"\u001b[0;36m, line \u001b[0;32m2\u001b[0m\n\u001b[0;31m    This is chapter number 1\u001b[0m\n\u001b[0m                    ^\u001b[0m\n\u001b[0;31mSyntaxError\u001b[0m\u001b[0;31m:\u001b[0m invalid syntax\n"
     ]
    }
   ],
   "source": [
    "## Chapter 1 <a class=\"anchor\" id=\"chapter1\"></a>\n",
    "This is chapter number 1\n",
    "### Section 1.1 <a class=\"anchor\" id=\"section_1_1\"></a>\n",
    "This is section 1.1\n",
    "##### Section 1.1.1 <a class=\"anchor\" id=\"sub_section_1_1_1\"></a>\n",
    "This is sub section 1.1.1\n",
    "## Chapter 2 <a class=\"anchor\" id=\"chapter2\"></a>\n",
    "This is chapter number 2\n",
    "### Section 2.1 <a class=\"anchor\" id=\"section_2_1\"></a\n",
    "This is section 2.1\n",
    "#### Section 2.1.1 <a class=\"anchor\" id=\"sub_section_2_1_1\"></a>\n",
    "This is sub section 2.1.1\n",
    "#### Section 2.1.2 <a class=\"anchor\" id=\"sub_section_2_1_2\"></a>\n",
    "This is sub section 2.1.2\n",
    "### Section 2.2 <a class=\"anchor\" id=\"section_2_2\"></a>\n",
    "This is section 2.2\n",
    "#### Section 2.2.1 <a class=\"anchor\" id=\"sub_section_2_2_1\"></a>\n",
    "This is sub section 2.2.1\n",
    "#### Section 2.2.2 <a class=\"anchor\" id=\"sub_section_2_2_2\"></a>\n",
    "This is sub section 2.2.2\n",
    "## Chapter 3 <a class=\"anchor\" id=\"chapter3\"></a>\n",
    "This is chapter number 3\n",
    "### Section 3.1 <a class=\"anchor\" id=\"section_3_1\"></a>\n",
    "This is section 3.1\n",
    "#### Section 3.1.1 <a class=\"anchor\" id=\"sub_section_3_1_1\"></a>\n",
    "This is sub section 3.1.1\n",
    "#### Section 3.1.2 <a class=\"anchor\" id=\"sub_section_3_1_2\"></a>\n",
    "This is sub section 3.1.2\n",
    "### Section 3.2 <a class=\"anchor\" id=\"section_3_2\"></a>\n",
    "This is section 3.2\n",
    "#### Section 3.2.1 <a class=\"anchor\" id=\"sub_section_3_2_1\"></a>\n",
    "This is sub section 3.2.1\n",
    "#### Section 3.2.2 <a class=\"anchor\" id=\"sub_section_3_2_2\"></a>\n",
    "This is sub section 3.2.2"
   ]
  },
  {
   "cell_type": "code",
   "execution_count": null,
   "id": "48480d3c",
   "metadata": {},
   "outputs": [],
   "source": []
  }
 ],
 "metadata": {
  "kernelspec": {
   "display_name": "Python 3 (ipykernel)",
   "language": "python",
   "name": "python3"
  },
  "language_info": {
   "codemirror_mode": {
    "name": "ipython",
    "version": 3
   },
   "file_extension": ".py",
   "mimetype": "text/x-python",
   "name": "python",
   "nbconvert_exporter": "python",
   "pygments_lexer": "ipython3",
   "version": "3.9.13"
  }
 },
 "nbformat": 4,
 "nbformat_minor": 5
}

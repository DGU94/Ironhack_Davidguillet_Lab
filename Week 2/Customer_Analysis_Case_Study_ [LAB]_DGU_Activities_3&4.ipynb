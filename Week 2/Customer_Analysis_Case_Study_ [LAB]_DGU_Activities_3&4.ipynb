{
 "cells": [
  {
   "cell_type": "markdown",
   "id": "e8151235",
   "metadata": {},
   "source": [
    "**Activity 3 (Wednesday)**"
   ]
  },
  {
   "cell_type": "markdown",
   "id": "fdfd1a60",
   "metadata": {},
   "source": [
    "**Get the numeric data into dataframe called numerical and categorical columns in a dataframe called categoricals. (You can use np.number and np.object to select the numerical data types and categorical data types respectively)**\n",
    "\n",
    "\n",
    "WE CAN DROP THE EFFECTIVE TO DATE COLUMN"
   ]
  },
  {
   "cell_type": "code",
   "execution_count": 3,
   "id": "b9a34954",
   "metadata": {},
   "outputs": [],
   "source": [
    "import numpy as np\n",
    "import pandas as pd\n",
    "import matplotlib.pyplot as plt\n",
    "%matplotlib inline\n",
    "import seaborn as sns\n",
    "import statsmodels.api as sm\n",
    "from scipy.stats import boxcox\n",
    "pd.options.display.max_rows = 100\n",
    "## Install xlrd package to load Excel files\n",
    "#!conda install openpyxl\n",
    "#!conda install xlrd"
   ]
  },
  {
   "cell_type": "code",
   "execution_count": 7,
   "id": "2613cc0f",
   "metadata": {},
   "outputs": [],
   "source": [
    "rd3 = pd.read_csv('Data/Data_Marketing_Customer_Analysis_Round3.csv')"
   ]
  },
  {
   "cell_type": "code",
   "execution_count": 9,
   "id": "a765e3c0",
   "metadata": {},
   "outputs": [
    {
     "data": {
      "text/plain": [
       "region                           object\n",
       "customer_lifetime_value           int64\n",
       "response                         object\n",
       "coverage                         object\n",
       "education                        object\n",
       "effective_to_date                object\n",
       "month                            object\n",
       "employment_status                object\n",
       "gender                           object\n",
       "income                            int64\n",
       "location_code                    object\n",
       "marital_status                   object\n",
       "monthly_premium_auto              int64\n",
       "months_since_last_claim           int64\n",
       "months_since_policy_inception     int64\n",
       "number_of_open_complaints         int64\n",
       "number_of_policies                int64\n",
       "policy_type                      object\n",
       "policy                           object\n",
       "renew_offer_type                 object\n",
       "sales_channel                    object\n",
       "total_claim_amount                int64\n",
       "vehicle_class                    object\n",
       "vehicle_size                     object\n",
       "dtype: object"
      ]
     },
     "execution_count": 9,
     "metadata": {},
     "output_type": "execute_result"
    }
   ],
   "source": [
    "rd3.dtypes"
   ]
  },
  {
   "cell_type": "code",
   "execution_count": 24,
   "id": "4210e8f2",
   "metadata": {},
   "outputs": [
    {
     "name": "stdout",
     "output_type": "stream",
     "text": [
      "       customer_lifetime_value  income  monthly_premium_auto  \\\n",
      "0                         4809   48029                    61   \n",
      "1                         2228   92260                    64   \n",
      "2                        14947   22139                   100   \n",
      "3                        22332   49078                    97   \n",
      "4                         9025   23675                   117   \n",
      "...                        ...     ...                   ...   \n",
      "10684                    15563   61541                   253   \n",
      "10685                     5259   61146                    65   \n",
      "10686                    23893   39837                   201   \n",
      "10687                    11971   64195                   158   \n",
      "10688                     6857   68942                   101   \n",
      "\n",
      "       months_since_last_claim  months_since_policy_inception  \\\n",
      "0                            7                             52   \n",
      "1                            3                             26   \n",
      "2                           34                             31   \n",
      "3                           10                              3   \n",
      "4                           33                             31   \n",
      "...                        ...                            ...   \n",
      "10684                       12                             40   \n",
      "10685                        7                             68   \n",
      "10686                       11                             63   \n",
      "10687                        0                             27   \n",
      "10688                       31                              1   \n",
      "\n",
      "       number_of_open_complaints  number_of_policies  total_claim_amount  \n",
      "0                              0                   9                 292  \n",
      "1                              0                   1                 744  \n",
      "2                              0                   2                 480  \n",
      "3                              0                   2                 484  \n",
      "4                              0                   7                 707  \n",
      "...                          ...                 ...                 ...  \n",
      "10684                          0                   7                1214  \n",
      "10685                          0                   6                 273  \n",
      "10686                          0                   2                 381  \n",
      "10687                          4                   6                 618  \n",
      "10688                          0                   3                1021  \n",
      "\n",
      "[10689 rows x 8 columns]\n",
      "            region response  coverage education effective_to_date month  \\\n",
      "0          central       no     basic   college           2/18/11   feb   \n",
      "1      west region       no     basic   college           1/18/11   jan   \n",
      "2             east       no     basic  bachelor           2/10/11   feb   \n",
      "3       north west      yes  extended   college           1/11/11   jan   \n",
      "4       north west       no   premium  bachelor           1/17/11   jan   \n",
      "...            ...      ...       ...       ...               ...   ...   \n",
      "10684      central       no   premium  bachelor           1/19/11   jan   \n",
      "10685   north west       no     basic   college            1/6/11   jan   \n",
      "10686      central       no  extended  bachelor            2/6/11   feb   \n",
      "10687  west region       no   premium   college           2/13/11   feb   \n",
      "10688      central       no     basic  bachelor            1/8/11   jan   \n",
      "\n",
      "      employment_status gender location_code marital_status     policy_type  \\\n",
      "0              employed      m      suburban        married  corporate auto   \n",
      "1            unemployed      f      suburban         single   personal auto   \n",
      "2              employed      m      suburban         single   personal auto   \n",
      "3              employed      m      suburban         single  corporate auto   \n",
      "4         medical leave      f      suburban        married   personal auto   \n",
      "...                 ...    ...           ...            ...             ...   \n",
      "10684        unemployed      f      suburban        married   personal auto   \n",
      "10685          employed      f         urban        married   personal auto   \n",
      "10686          employed      f         rural        married  corporate auto   \n",
      "10687          employed      f         urban       divorced   personal auto   \n",
      "10688        unemployed      m      suburban         single   personal auto   \n",
      "\n",
      "             policy renew_offer_type sales_channel  vehicle_class vehicle_size  \n",
      "0      corporate l3           offer3         agent  four-door car      medsize  \n",
      "1       personal l3           offer4   call center  four-door car      medsize  \n",
      "2       personal l3           offer3   call center            suv      medsize  \n",
      "3      corporate l3           offer2        branch  four-door car      medsize  \n",
      "4       personal l2           offer1        branch  four-door car      medsize  \n",
      "...             ...              ...           ...            ...          ...  \n",
      "10684   personal l1           offer3           web     luxury car      medsize  \n",
      "10685   personal l3           offer2        branch  four-door car      medsize  \n",
      "10686  corporate l3           offer1           web     luxury suv      medsize  \n",
      "10687   personal l1           offer1        branch            suv      medsize  \n",
      "10688   personal l1           offer4           web            suv      medsize  \n",
      "\n",
      "[10689 rows x 16 columns]\n"
     ]
    },
    {
     "name": "stderr",
     "output_type": "stream",
     "text": [
      "/var/folders/d0/kyjzvmwn3fdgc5m0t8snt0nm0000gn/T/ipykernel_43554/414943817.py:2: DeprecationWarning: `np.object` is a deprecated alias for the builtin `object`. To silence this warning, use `object` by itself. Doing this will not modify any behavior and is safe. \n",
      "Deprecated in NumPy 1.20; for more details and guidance: https://numpy.org/devdocs/release/1.20.0-notes.html#deprecations\n",
      "  cat_data = rd3.select_dtypes(include=np.object)\n"
     ]
    }
   ],
   "source": [
    "#We import the numerical columns from dataframe rd3 to num_data through ., same for the categorical through np.object\n",
    "num_data = rd3.select_dtypes(include=[np.number])\n",
    "cat_data = rd3.select_dtypes(include=np.object)\n",
    "num_data"
   ]
  },
  {
   "cell_type": "code",
   "execution_count": null,
   "id": "7b448262",
   "metadata": {},
   "outputs": [],
   "source": []
  }
 ],
 "metadata": {
  "kernelspec": {
   "display_name": "Python 3 (ipykernel)",
   "language": "python",
   "name": "python3"
  },
  "language_info": {
   "codemirror_mode": {
    "name": "ipython",
    "version": 3
   },
   "file_extension": ".py",
   "mimetype": "text/x-python",
   "name": "python",
   "nbconvert_exporter": "python",
   "pygments_lexer": "ipython3",
   "version": "3.9.13"
  }
 },
 "nbformat": 4,
 "nbformat_minor": 5
}

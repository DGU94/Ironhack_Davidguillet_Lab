{
 "cells": [
  {
   "cell_type": "markdown",
   "id": "c5172119",
   "metadata": {},
   "source": [
    "1. Import the numpy package under the name np (★☆☆)\n",
    "hint: import … as\n",
    "\n",
    "2. Create a null vector of size 10 (★☆☆)\n",
    "hint: np.zeros\n",
    "\n",
    "3. Create a null vector of size 10 but the fifth value which is 1 (★☆☆)\n",
    "hint: array[4]\n",
    "\n",
    "4. Create a vector with values ranging from 10 to 49 (★☆☆)\n",
    "hint: arange\n",
    "\n",
    "5. Create a 3x3 matrix with values ranging from 0 to 8 (★☆☆)\n",
    "hint: reshape\n",
    "\n",
    "6. Find indices of non-zero elements from [1,2,0,0,4,0] (★☆☆)\n",
    "hint: np.nonzero\n",
    "\n",
    "7. Create a 3x3 identity matrix (★☆☆)\n",
    "hint: np.eye\n",
    "\n",
    "8. Create a 3x3x3 array with random values (★☆☆)\n",
    "hint: np.random.random\n",
    "\n",
    "9. Create a 10x10 array with random values and find the minimum and maximum values (★☆☆)\n",
    "hint: min, max\n",
    "\n",
    "10. Create a random vector of size 30 and find the mean value (★☆☆)\n",
    "hint: mean\n",
    "\n",
    "11. Create a 5x5 matrix with values 1,2,3,4 just below the diagonal (★☆☆)\n",
    "hint: np.diag\n",
    "\n",
    "12. Normalize a 5x5 random matrix (★☆☆)\n",
    "hint: (x -mean)/std\n",
    "\n",
    "13. How to find common values between two arrays? (★☆☆)\n",
    "hint: np.intersect1d\n",
    "\n",
    "14. Create a random vector of size 10 and sort it (★★☆)\n",
    "hint: sort\n",
    "\n",
    "15. Create random vector of size 10 and replace the maximum value by 0 (★★☆)\n",
    "hint: argmax\n",
    "\n",
    "16. Subtract the mean of each row of a matrix (★★☆)\n",
    "hint: mean(axis=,keepdims=)\n",
    "\n",
    "17. How to get the n largest values of an array (★★★)\n",
    "Z = np.arange(10000) np.random.shuffle(Z) n = 5 hint: np.argsort | np.argpartition\n",
    "\n",
    "18. Create a random 5*3 matrix and replace items that are larger than 4 by their squares ( Example: 6 --> 36)\n",
    "hint: np.where\n",
    "\n"
   ]
  },
  {
   "cell_type": "code",
   "execution_count": 3,
   "id": "355a922c",
   "metadata": {},
   "outputs": [
    {
     "name": "stdout",
     "output_type": "stream",
     "text": [
      "[0. 0. 0. 0. 0. 0. 0. 0. 0. 0.]\n"
     ]
    }
   ],
   "source": [
    "#1. Import the numpy package under the name np (★☆☆)\n",
    "#2. Create a null vector of size 10 (★☆☆)\n",
    "import numpy as np\n",
    "a = np.zeros(10)\n",
    "print(a)"
   ]
  },
  {
   "cell_type": "code",
   "execution_count": 12,
   "id": "15db9d4a",
   "metadata": {},
   "outputs": [
    {
     "name": "stdout",
     "output_type": "stream",
     "text": [
      "[0. 0. 0. 0. 1. 0. 0. 0. 0. 0.]\n"
     ]
    }
   ],
   "source": [
    "#3. Create a null vector of size 10 but the fifth value which is 1 (★☆☆)\n",
    "#array[4]\n",
    "a[4] = 1\n",
    "print(a)"
   ]
  },
  {
   "cell_type": "code",
   "execution_count": 20,
   "id": "96997736",
   "metadata": {},
   "outputs": [
    {
     "name": "stdout",
     "output_type": "stream",
     "text": [
      "[10 11 12 13 14 15 16 17 18 19 20 21 22 23 24 25 26 27 28 29 30 31 32 33\n",
      " 34 35 36 37 38 39 40 41 42 43 44 45 46 47 48]\n"
     ]
    }
   ],
   "source": [
    "#4. Create a vector with values ranging from 10 to 49 (★☆☆)\n",
    "#hint: arange\n",
    "b = np.arange(10,49)\n",
    "print(b)"
   ]
  },
  {
   "cell_type": "code",
   "execution_count": 179,
   "id": "d21b6010",
   "metadata": {},
   "outputs": [
    {
     "ename": "ValueError",
     "evalue": "cannot reshape array of size 8 into shape (3,3)",
     "output_type": "error",
     "traceback": [
      "\u001b[0;31m---------------------------------------------------------------------------\u001b[0m",
      "\u001b[0;31mValueError\u001b[0m                                Traceback (most recent call last)",
      "\u001b[0;32m/var/folders/d0/kyjzvmwn3fdgc5m0t8snt0nm0000gn/T/ipykernel_59420/1044290932.py\u001b[0m in \u001b[0;36m<module>\u001b[0;34m\u001b[0m\n\u001b[1;32m      2\u001b[0m \u001b[0;31m#hint: reshape\u001b[0m\u001b[0;34m\u001b[0m\u001b[0;34m\u001b[0m\u001b[0m\n\u001b[1;32m      3\u001b[0m \u001b[0mc\u001b[0m \u001b[0;34m=\u001b[0m \u001b[0mnp\u001b[0m\u001b[0;34m.\u001b[0m\u001b[0marange\u001b[0m\u001b[0;34m(\u001b[0m\u001b[0;36m0\u001b[0m\u001b[0;34m,\u001b[0m\u001b[0;36m8\u001b[0m\u001b[0;34m)\u001b[0m\u001b[0;34m\u001b[0m\u001b[0;34m\u001b[0m\u001b[0m\n\u001b[0;32m----> 4\u001b[0;31m \u001b[0mnp\u001b[0m\u001b[0;34m.\u001b[0m\u001b[0mreshape\u001b[0m\u001b[0;34m(\u001b[0m\u001b[0mc\u001b[0m\u001b[0;34m,\u001b[0m\u001b[0;34m(\u001b[0m\u001b[0;36m3\u001b[0m\u001b[0;34m,\u001b[0m \u001b[0;36m3\u001b[0m\u001b[0;34m)\u001b[0m\u001b[0;34m)\u001b[0m\u001b[0;34m\u001b[0m\u001b[0;34m\u001b[0m\u001b[0m\n\u001b[0m\u001b[1;32m      5\u001b[0m \u001b[0mprint\u001b[0m\u001b[0;34m(\u001b[0m\u001b[0mc\u001b[0m\u001b[0;34m)\u001b[0m\u001b[0;34m\u001b[0m\u001b[0;34m\u001b[0m\u001b[0m\n",
      "\u001b[0;32m<__array_function__ internals>\u001b[0m in \u001b[0;36mreshape\u001b[0;34m(*args, **kwargs)\u001b[0m\n",
      "\u001b[0;32m~/opt/anaconda3/lib/python3.9/site-packages/numpy/core/fromnumeric.py\u001b[0m in \u001b[0;36mreshape\u001b[0;34m(a, newshape, order)\u001b[0m\n\u001b[1;32m    296\u001b[0m            [5, 6]])\n\u001b[1;32m    297\u001b[0m     \"\"\"\n\u001b[0;32m--> 298\u001b[0;31m     \u001b[0;32mreturn\u001b[0m \u001b[0m_wrapfunc\u001b[0m\u001b[0;34m(\u001b[0m\u001b[0ma\u001b[0m\u001b[0;34m,\u001b[0m \u001b[0;34m'reshape'\u001b[0m\u001b[0;34m,\u001b[0m \u001b[0mnewshape\u001b[0m\u001b[0;34m,\u001b[0m \u001b[0morder\u001b[0m\u001b[0;34m=\u001b[0m\u001b[0morder\u001b[0m\u001b[0;34m)\u001b[0m\u001b[0;34m\u001b[0m\u001b[0;34m\u001b[0m\u001b[0m\n\u001b[0m\u001b[1;32m    299\u001b[0m \u001b[0;34m\u001b[0m\u001b[0m\n\u001b[1;32m    300\u001b[0m \u001b[0;34m\u001b[0m\u001b[0m\n",
      "\u001b[0;32m~/opt/anaconda3/lib/python3.9/site-packages/numpy/core/fromnumeric.py\u001b[0m in \u001b[0;36m_wrapfunc\u001b[0;34m(obj, method, *args, **kwds)\u001b[0m\n\u001b[1;32m     55\u001b[0m \u001b[0;34m\u001b[0m\u001b[0m\n\u001b[1;32m     56\u001b[0m     \u001b[0;32mtry\u001b[0m\u001b[0;34m:\u001b[0m\u001b[0;34m\u001b[0m\u001b[0;34m\u001b[0m\u001b[0m\n\u001b[0;32m---> 57\u001b[0;31m         \u001b[0;32mreturn\u001b[0m \u001b[0mbound\u001b[0m\u001b[0;34m(\u001b[0m\u001b[0;34m*\u001b[0m\u001b[0margs\u001b[0m\u001b[0;34m,\u001b[0m \u001b[0;34m**\u001b[0m\u001b[0mkwds\u001b[0m\u001b[0;34m)\u001b[0m\u001b[0;34m\u001b[0m\u001b[0;34m\u001b[0m\u001b[0m\n\u001b[0m\u001b[1;32m     58\u001b[0m     \u001b[0;32mexcept\u001b[0m \u001b[0mTypeError\u001b[0m\u001b[0;34m:\u001b[0m\u001b[0;34m\u001b[0m\u001b[0;34m\u001b[0m\u001b[0m\n\u001b[1;32m     59\u001b[0m         \u001b[0;31m# A TypeError occurs if the object does have such a method in its\u001b[0m\u001b[0;34m\u001b[0m\u001b[0;34m\u001b[0m\u001b[0m\n",
      "\u001b[0;31mValueError\u001b[0m: cannot reshape array of size 8 into shape (3,3)"
     ]
    }
   ],
   "source": [
    "#5. Create a 3x3 matrix with values ranging from 0 to 8 \n",
    "#hint: reshape\n",
    "c = np.arange(0,8)\n",
    "np.reshape(c,(3, 3))\n",
    "print(c)"
   ]
  },
  {
   "cell_type": "code",
   "execution_count": 33,
   "id": "eaa63693",
   "metadata": {},
   "outputs": [
    {
     "name": "stdout",
     "output_type": "stream",
     "text": [
      "(array([0, 1, 4]),)\n"
     ]
    }
   ],
   "source": [
    "#6. Find indices of non-zero elements from [1,2,0,0,4,0]\n",
    "#hint: np.nonzero\n",
    "d = np.array([1,2,0,0,4,0])\n",
    "#nonzero = (i for i in d if np.nonzero(i))\n",
    "print(np.nonzero(d))"
   ]
  },
  {
   "cell_type": "code",
   "execution_count": 43,
   "id": "9f1cd327",
   "metadata": {},
   "outputs": [
    {
     "name": "stdout",
     "output_type": "stream",
     "text": [
      "[[1. 0. 0.]\n",
      " [0. 1. 0.]\n",
      " [0. 0. 1.]]\n",
      "OR: \n"
     ]
    },
    {
     "data": {
      "text/plain": [
       "array([[1., 0., 0.],\n",
       "       [0., 1., 0.],\n",
       "       [0., 0., 1.]])"
      ]
     },
     "execution_count": 43,
     "metadata": {},
     "output_type": "execute_result"
    }
   ],
   "source": [
    "#7. Create a 3x3 identity matrix\n",
    "#hint: np.eye\n",
    "print(np.identity(3))\n",
    "print(\"OR: \")\n",
    "np.eye(3, k=0)"
   ]
  },
  {
   "cell_type": "code",
   "execution_count": 66,
   "id": "6fa8510e",
   "metadata": {},
   "outputs": [],
   "source": [
    "#8. Create a 3x3x3 array with random values\n",
    "#hint: np.random.random\n",
    "f= np.random.random((3,3,3))"
   ]
  },
  {
   "cell_type": "code",
   "execution_count": 76,
   "id": "fd4f8e5d",
   "metadata": {},
   "outputs": [
    {
     "name": "stdout",
     "output_type": "stream",
     "text": [
      "0.003993407049347697\n",
      "0.9997757060579361\n"
     ]
    }
   ],
   "source": [
    "#9. Create a 10x10 array with random values and find the minimum and maximum values (★☆☆)\n",
    "#hint: min, max\n",
    "e = np.random.random([10,10])\n",
    "print(e.min())\n",
    "print(e.max())"
   ]
  },
  {
   "cell_type": "code",
   "execution_count": 79,
   "id": "1d26b2b2",
   "metadata": {},
   "outputs": [
    {
     "name": "stdout",
     "output_type": "stream",
     "text": [
      "0.5269167107524729\n"
     ]
    }
   ],
   "source": [
    "#10. Create a random vector of size 30 and find the mean value (★☆☆)\n",
    "#hint: mean\n",
    "g = np.random.random(30)\n",
    "print(e.mean())"
   ]
  },
  {
   "cell_type": "code",
   "execution_count": 96,
   "id": "2ed6123a",
   "metadata": {},
   "outputs": [
    {
     "data": {
      "text/plain": [
       "array([[0, 0, 0, 0, 0],\n",
       "       [1, 0, 0, 0, 0],\n",
       "       [0, 2, 0, 0, 0],\n",
       "       [0, 0, 3, 0, 0],\n",
       "       [0, 0, 0, 4, 0]])"
      ]
     },
     "execution_count": 96,
     "metadata": {},
     "output_type": "execute_result"
    }
   ],
   "source": [
    "#11. Create a 5x5 matrix with values 1,2,3,4 just below the diagonal (★☆☆)\n",
    "#hint: np.diag\n",
    "i = np.diag([1, 2, 3, 4], k=-1)\n"
   ]
  },
  {
   "cell_type": "code",
   "execution_count": 104,
   "id": "cebaf67c",
   "metadata": {},
   "outputs": [
    {
     "name": "stdout",
     "output_type": "stream",
     "text": [
      "[[ 1.98875986  1.04378075 -0.53304581  0.31537534  0.68435295]\n",
      " [-1.30926045 -1.57118145  1.38542657 -0.53992457  0.0274307 ]\n",
      " [-1.46445439 -0.82329048 -0.06439354  0.50117072 -0.14258568]\n",
      " [-1.06466521 -0.71399733 -0.34223095 -0.52442748  1.15488437]\n",
      " [ 1.60875529 -1.31357302  1.35681008  0.04915338  0.29113036]]\n"
     ]
    }
   ],
   "source": [
    "#12. Normalize a 5x5 random matrix\n",
    "#hint: (x -mean)/std\n",
    "h = np.random.random([5,5])\n",
    "print((h -h.mean())/np.std(h))"
   ]
  },
  {
   "cell_type": "code",
   "execution_count": 114,
   "id": "36a8e4f1",
   "metadata": {},
   "outputs": [
    {
     "name": "stdout",
     "output_type": "stream",
     "text": [
      "[0 1 2 3 4]\n"
     ]
    }
   ],
   "source": [
    "#13. How to find common values between two arrays? (★☆☆)\n",
    "#hint: np.intersect1d\n",
    "i = np.diag([1, 2, 3, 4], k=-1)\n",
    "j = np.diag([1, 2, 3, 4], k=+1)\n",
    "print(np.intersect1d(j,i))"
   ]
  },
  {
   "cell_type": "code",
   "execution_count": 117,
   "id": "39c2a903",
   "metadata": {},
   "outputs": [
    {
     "data": {
      "text/plain": [
       "array([0.06998702, 0.07195554, 0.17054261, 0.17131724, 0.18457823,\n",
       "       0.1849988 , 0.27478689, 0.2838492 , 0.29242985, 0.32043673,\n",
       "       0.32796605, 0.34554869, 0.36050358, 0.3605265 , 0.42369652,\n",
       "       0.43260336, 0.48094818, 0.50316423, 0.52013688, 0.56168922,\n",
       "       0.67205716, 0.75400832, 0.80997811, 0.82870916, 0.85469289,\n",
       "       0.87131645, 0.88801716, 0.88862592, 0.93347694, 0.98862727])"
      ]
     },
     "execution_count": 117,
     "metadata": {},
     "output_type": "execute_result"
    }
   ],
   "source": [
    "#14. Create a random vector of size 10 and sort it (★★☆)\n",
    "#hint: sort\n",
    "k = np.random.random(30)\n",
    "np.sort(k)"
   ]
  },
  {
   "cell_type": "code",
   "execution_count": 132,
   "id": "114313fe",
   "metadata": {},
   "outputs": [
    {
     "name": "stdout",
     "output_type": "stream",
     "text": [
      "[0.15315079 0.53395193 0.11928914 0.83013922 0.62610961 0.11462623\n",
      " 0.43550458 0.68925507 0.81940675 0.        ]\n"
     ]
    }
   ],
   "source": [
    "#15. Create random vector of size 10 and (★★☆)\n",
    "#hint: argmax\n",
    "l = np.random.random(10)\n",
    "l[l.argmax()] = 0\n",
    "print(l)"
   ]
  },
  {
   "cell_type": "code",
   "execution_count": 180,
   "id": "bdfbb6a0",
   "metadata": {},
   "outputs": [
    {
     "name": "stdout",
     "output_type": "stream",
     "text": [
      "[[ 0.28919285 -0.24767196 -0.19007407  0.14855317]\n",
      " [ 0.03510375  0.07893602 -0.10128488 -0.01275489]\n",
      " [ 0.3316722  -0.0828299  -0.31199647  0.06315417]\n",
      " [-0.42458588  0.23776443  0.30849444 -0.121673  ]]\n"
     ]
    }
   ],
   "source": [
    "#16. Subtract the mean of each row of a matrix (★★☆)\n",
    "#hint: mean(axis=,keepdims=)\n",
    "m = np.random.random([4,4])\n",
    "sub = m - m.mean(axis=1, keepdims=True)\n",
    "print(sub)"
   ]
  },
  {
   "cell_type": "code",
   "execution_count": 165,
   "id": "1a8d4af9",
   "metadata": {},
   "outputs": [
    {
     "name": "stdout",
     "output_type": "stream",
     "text": [
      "[   0    1    2 ... 9997 9998 9999]\n",
      "[9995 9996 9997 9998 9999]\n"
     ]
    }
   ],
   "source": [
    "#17. How to get the n largest values of an array \n",
    "# Z = np.arange(10000) np.random.shuffle(Z) n = 5 hint: np.argsort | np.argpartition\n",
    "Z = np.arange(10000)\n",
    "print(Z)\n",
    "np.random.shuffle(Z)\n",
    "n = 5\n",
    "sorted_z = np.argsort(Z)\n",
    "print (Z[np.argsort(Z)[-n:]])"
   ]
  },
  {
   "cell_type": "code",
   "execution_count": 175,
   "id": "72c5f1e2",
   "metadata": {},
   "outputs": [
    {
     "name": "stdout",
     "output_type": "stream",
     "text": [
      "[[ 8  9  6]\n",
      " [ 9 10  8]\n",
      " [ 2 10 11]\n",
      " [13  3 10]\n",
      " [ 2  0 10]]\n",
      "[[ 64  81  36]\n",
      " [ 81 100  64]\n",
      " [  2 100 121]\n",
      " [169   3 100]\n",
      " [  2   0 100]]\n"
     ]
    }
   ],
   "source": [
    "#18. Create a random 5*3 matrix and replace items that are larger than 4 by their squares ( Example: 6 --> 36)\n",
    "#hint: np.where\n",
    "n = np.random.randint(15, size=(5,3))\n",
    "print(n)\n",
    "n = np.where(n > 4, n*n, n)\n",
    "\n",
    "print(n)\n"
   ]
  }
 ],
 "metadata": {
  "kernelspec": {
   "display_name": "Python 3 (ipykernel)",
   "language": "python",
   "name": "python3"
  },
  "language_info": {
   "codemirror_mode": {
    "name": "ipython",
    "version": 3
   },
   "file_extension": ".py",
   "mimetype": "text/x-python",
   "name": "python",
   "nbconvert_exporter": "python",
   "pygments_lexer": "ipython3",
   "version": "3.9.13"
  }
 },
 "nbformat": 4,
 "nbformat_minor": 5
}
